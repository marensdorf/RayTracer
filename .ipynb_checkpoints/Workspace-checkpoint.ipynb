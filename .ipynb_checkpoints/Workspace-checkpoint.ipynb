{
 "cells": [
  {
   "cell_type": "code",
   "execution_count": 1,
   "metadata": {},
   "outputs": [],
   "source": [
    "import numpy as np\n",
    "from numpy import linalg as LA "
   ]
  },
  {
   "cell_type": "code",
   "execution_count": 3,
   "metadata": {},
   "outputs": [],
   "source": [
    "def mag(v):\n",
    "    \"\"\" Calculate the magnitude of a vector\n",
    "\n",
    "    Attributes: v: Numpy 1d array representing a vector\n",
    "    Returns: the magnitude of the vector\n",
    "    \"\"\"\n",
    "    return np.sqrt(v.dot(v))\n",
    "\n",
    "def areaTriangle(p0, p1, p2):\n",
    "    \"\"\" Calculate the area of a triangle\n",
    "\n",
    "    Attributes: p0, p1, p2: Numpy arrays representing points of the triangle\n",
    "    Returns: the total area of the triangle\n",
    "    \"\"\"\n",
    "    return mag(np.cross(p2-p1, p0-p1))/2\n"
   ]
  },
  {
   "cell_type": "code",
   "execution_count": 6,
   "metadata": {},
   "outputs": [],
   "source": [
    "p0 = np.array([1,2,3])\n",
    "p1 = np.array([4,5,6])\n",
    "p2 = np.array([7,8,-9])"
   ]
  },
  {
   "cell_type": "code",
   "execution_count": 7,
   "metadata": {},
   "outputs": [
    {
     "data": {
      "text/plain": [
       "38.18376618407357"
      ]
     },
     "execution_count": 7,
     "metadata": {},
     "output_type": "execute_result"
    }
   ],
   "source": [
    "areaTriangle(p0,p1,p2)"
   ]
  },
  {
   "cell_type": "code",
   "execution_count": 19,
   "metadata": {},
   "outputs": [],
   "source": [
    "pixavg = np.zeros((8,3))"
   ]
  },
  {
   "cell_type": "code",
   "execution_count": 20,
   "metadata": {},
   "outputs": [],
   "source": [
    "pixavg[0] = np.array((1,2,3))"
   ]
  },
  {
   "cell_type": "code",
   "execution_count": 21,
   "metadata": {},
   "outputs": [
    {
     "data": {
      "text/plain": [
       "array([0.125, 0.25 , 0.375])"
      ]
     },
     "execution_count": 21,
     "metadata": {},
     "output_type": "execute_result"
    }
   ],
   "source": [
    "np.mean(pixavg, axis=0)"
   ]
  },
  {
   "cell_type": "code",
   "execution_count": 14,
   "metadata": {},
   "outputs": [],
   "source": [
    "class Halton:\n",
    "    def next_prime():\n",
    "        def is_prime(num):\n",
    "            \"Checks if num is a prime value\"\n",
    "            for i in range(2,int(num**0.5)+1):\n",
    "                if(num % i)==0: return False\n",
    "            return True\n",
    "\n",
    "        prime = 3\n",
    "        while(1):\n",
    "            if is_prime(prime):\n",
    "                yield prime\n",
    "            prime += 2\n",
    "\n",
    "    def vdc(n, base=2):\n",
    "        vdc, denom = 0, 1\n",
    "        while n:\n",
    "            denom *= base\n",
    "            n, remainder = divmod(n, base)\n",
    "            vdc += remainder/float(denom)\n",
    "        return vdc\n",
    "\n",
    "    def halton_sequence(size, dim):\n",
    "        seq = []\n",
    "        primeGen = next_prime()\n",
    "        next(primeGen)\n",
    "        for d in range(dim):\n",
    "            base = next(primeGen)\n",
    "            seq.append([vdc(i, base) for i in range(size)])\n",
    "        return seq\n"
   ]
  },
  {
   "cell_type": "code",
   "execution_count": 15,
   "metadata": {},
   "outputs": [
    {
     "ename": "NameError",
     "evalue": "name 'next_prime' is not defined",
     "output_type": "error",
     "traceback": [
      "\u001b[0;31m---------------------------------------------------------------------------\u001b[0m",
      "\u001b[0;31mNameError\u001b[0m                                 Traceback (most recent call last)",
      "\u001b[0;32m<ipython-input-15-b11868fb18bc>\u001b[0m in \u001b[0;36m<module>\u001b[0;34m()\u001b[0m\n\u001b[0;32m----> 1\u001b[0;31m \u001b[0mHalton\u001b[0m\u001b[0;34m.\u001b[0m\u001b[0mhalton_sequence\u001b[0m\u001b[0;34m(\u001b[0m\u001b[0;36m8\u001b[0m\u001b[0;34m,\u001b[0m\u001b[0;36m2\u001b[0m\u001b[0;34m)\u001b[0m\u001b[0;34m\u001b[0m\u001b[0m\n\u001b[0m",
      "\u001b[0;32m<ipython-input-14-05fefabb14cf>\u001b[0m in \u001b[0;36mhalton_sequence\u001b[0;34m(size, dim)\u001b[0m\n\u001b[1;32m     23\u001b[0m     \u001b[0;32mdef\u001b[0m \u001b[0mhalton_sequence\u001b[0m\u001b[0;34m(\u001b[0m\u001b[0msize\u001b[0m\u001b[0;34m,\u001b[0m \u001b[0mdim\u001b[0m\u001b[0;34m)\u001b[0m\u001b[0;34m:\u001b[0m\u001b[0;34m\u001b[0m\u001b[0m\n\u001b[1;32m     24\u001b[0m         \u001b[0mseq\u001b[0m \u001b[0;34m=\u001b[0m \u001b[0;34m[\u001b[0m\u001b[0;34m]\u001b[0m\u001b[0;34m\u001b[0m\u001b[0m\n\u001b[0;32m---> 25\u001b[0;31m         \u001b[0mprimeGen\u001b[0m \u001b[0;34m=\u001b[0m \u001b[0mnext_prime\u001b[0m\u001b[0;34m(\u001b[0m\u001b[0;34m)\u001b[0m\u001b[0;34m\u001b[0m\u001b[0m\n\u001b[0m\u001b[1;32m     26\u001b[0m         \u001b[0mnext\u001b[0m\u001b[0;34m(\u001b[0m\u001b[0mprimeGen\u001b[0m\u001b[0;34m)\u001b[0m\u001b[0;34m\u001b[0m\u001b[0m\n\u001b[1;32m     27\u001b[0m         \u001b[0;32mfor\u001b[0m \u001b[0md\u001b[0m \u001b[0;32min\u001b[0m \u001b[0mrange\u001b[0m\u001b[0;34m(\u001b[0m\u001b[0mdim\u001b[0m\u001b[0;34m)\u001b[0m\u001b[0;34m:\u001b[0m\u001b[0;34m\u001b[0m\u001b[0m\n",
      "\u001b[0;31mNameError\u001b[0m: name 'next_prime' is not defined"
     ]
    }
   ],
   "source": [
    "Halton.halton_sequence(8,2)"
   ]
  },
  {
   "cell_type": "code",
   "execution_count": 29,
   "metadata": {},
   "outputs": [
    {
     "name": "stdout",
     "output_type": "stream",
     "text": [
      "True\n",
      "(0, 0, 0)\n"
     ]
    }
   ],
   "source": [
    "maximum = np.array([4,5,6])\n",
    "minimum = np.array([0,0,0])\n",
    "p = np.array([2,3,4])\n",
    "print (np.all(minimum <= p))\n",
    "t = tuple(minimum)\n",
    "print (t)"
   ]
  },
  {
   "cell_type": "code",
   "execution_count": 30,
   "metadata": {},
   "outputs": [
    {
     "name": "stdout",
     "output_type": "stream",
     "text": [
      "[]\n"
     ]
    }
   ],
   "source": [
    "shape = np.array([10,10,10])\n",
    "g = [[[[] for _ in range(shape[0])] for _ in range(shape[1])] for _ in range(shape[2])]\n",
    "print (g[minimum[0]][minimum[1]][minimum[2]])"
   ]
  },
  {
   "cell_type": "code",
   "execution_count": 31,
   "metadata": {},
   "outputs": [
    {
     "name": "stdout",
     "output_type": "stream",
     "text": [
      "[1. 1. 1.]\n",
      "[5. 6. 7.]\n",
      "1.0\n",
      "5.0\n"
     ]
    }
   ],
   "source": [
    "o = np.array([-1,-1,-1])\n",
    "d = np.array([1,-1,1])\n",
    "t0 = (minimum - o) / d\n",
    "print(t0)\n",
    "t1 = (maximum - o) / d\n",
    "print(t1)\n",
    "tmin = np.max(np.minimum(t0, t1))\n",
    "print(tmin)\n",
    "tmax = np.min(np.maximum(t0, t1))\n",
    "print(tmax)"
   ]
  },
  {
   "cell_type": "code",
   "execution_count": 32,
   "metadata": {},
   "outputs": [
    {
     "name": "stdout",
     "output_type": "stream",
     "text": [
      "Outside box\n",
      "[0 0 0]\n"
     ]
    }
   ],
   "source": [
    "size = maximum - minimum\n",
    "if np.all(np.logical_and(minimum <= o, o <= maximum)):\n",
    "    print(\"Inside box\")\n",
    "    index = np.floor((o - minimum) / size).astype(int)\n",
    "else:\n",
    "    print(\"Outside box\")\n",
    "    index = np.floor(((o + tmin * d) - minimum) / size).astype(int)\n",
    "print(index)"
   ]
  },
  {
   "cell_type": "code",
   "execution_count": 28,
   "metadata": {},
   "outputs": [
    {
     "name": "stdout",
     "output_type": "stream",
     "text": [
      "[]\n"
     ]
    }
   ],
   "source": []
  },
  {
   "cell_type": "code",
   "execution_count": null,
   "metadata": {},
   "outputs": [],
   "source": []
  }
 ],
 "metadata": {
  "kernelspec": {
   "display_name": "Python 3",
   "language": "python",
   "name": "python3"
  },
  "language_info": {
   "codemirror_mode": {
    "name": "ipython",
    "version": 3
   },
   "file_extension": ".py",
   "mimetype": "text/x-python",
   "name": "python",
   "nbconvert_exporter": "python",
   "pygments_lexer": "ipython3",
   "version": "3.6.5"
  }
 },
 "nbformat": 4,
 "nbformat_minor": 2
}
