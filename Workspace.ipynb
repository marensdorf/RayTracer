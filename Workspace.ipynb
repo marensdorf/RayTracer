{
 "cells": [
  {
   "cell_type": "code",
   "execution_count": 1,
   "metadata": {},
   "outputs": [],
   "source": [
    "import numpy as np\n",
    "from numpy import linalg as LA "
   ]
  },
  {
   "cell_type": "code",
   "execution_count": 2,
   "metadata": {},
   "outputs": [],
   "source": [
    "def mag(v):\n",
    "    \"\"\" Calculate the magnitude of a vector\n",
    "\n",
    "    Attributes: v: Numpy 1d array representing a vector\n",
    "    Returns: the magnitude of the vector\n",
    "    \"\"\"\n",
    "    return np.sqrt(v.dot(v))\n",
    "\n",
    "def areaTriangle(p0, p1, p2):\n",
    "    \"\"\" Calculate the area of a triangle\n",
    "\n",
    "    Attributes: p0, p1, p2: Numpy arrays representing points of the triangle\n",
    "    Returns: the total area of the triangle\n",
    "    \"\"\"\n",
    "    return mag(np.cross(p2-p1, p0-p1))/2\n"
   ]
  },
  {
   "cell_type": "code",
   "execution_count": 3,
   "metadata": {},
   "outputs": [],
   "source": [
    "p0 = np.array([1,2,3])\n",
    "p1 = np.array([4,5,6])\n",
    "p2 = np.array([7,8,-9])"
   ]
  },
  {
   "cell_type": "code",
   "execution_count": 4,
   "metadata": {},
   "outputs": [
    {
     "data": {
      "text/plain": [
       "38.18376618407357"
      ]
     },
     "execution_count": 4,
     "metadata": {},
     "output_type": "execute_result"
    }
   ],
   "source": [
    "areaTriangle(p0,p1,p2)"
   ]
  },
  {
   "cell_type": "code",
   "execution_count": 5,
   "metadata": {},
   "outputs": [],
   "source": [
    "pixavg = np.zeros((8,3))"
   ]
  },
  {
   "cell_type": "code",
   "execution_count": 6,
   "metadata": {},
   "outputs": [],
   "source": [
    "pixavg[0] = np.array((1,2,3))"
   ]
  },
  {
   "cell_type": "code",
   "execution_count": 7,
   "metadata": {},
   "outputs": [
    {
     "data": {
      "text/plain": [
       "array([0.125, 0.25 , 0.375])"
      ]
     },
     "execution_count": 7,
     "metadata": {},
     "output_type": "execute_result"
    }
   ],
   "source": [
    "np.mean(pixavg, axis=0)"
   ]
  },
  {
   "cell_type": "code",
   "execution_count": 8,
   "metadata": {},
   "outputs": [],
   "source": [
    "class Halton:\n",
    "    def next_prime():\n",
    "        def is_prime(num):\n",
    "            \"Checks if num is a prime value\"\n",
    "            for i in range(2,int(num**0.5)+1):\n",
    "                if(num % i)==0: return False\n",
    "            return True\n",
    "\n",
    "        prime = 3\n",
    "        while(1):\n",
    "            if is_prime(prime):\n",
    "                yield prime\n",
    "            prime += 2\n",
    "\n",
    "    def vdc(n, base=2):\n",
    "        vdc, denom = 0, 1\n",
    "        while n:\n",
    "            denom *= base\n",
    "            n, remainder = divmod(n, base)\n",
    "            vdc += remainder/float(denom)\n",
    "        return vdc\n",
    "\n",
    "    def halton_sequence(size, dim):\n",
    "        seq = []\n",
    "        primeGen = next_prime()\n",
    "        next(primeGen)\n",
    "        for d in range(dim):\n",
    "            base = next(primeGen)\n",
    "            seq.append([vdc(i, base) for i in range(size)])\n",
    "        return seq\n"
   ]
  },
  {
   "cell_type": "code",
   "execution_count": 9,
   "metadata": {},
   "outputs": [
    {
     "ename": "NameError",
     "evalue": "name 'next_prime' is not defined",
     "output_type": "error",
     "traceback": [
      "\u001b[0;31m---------------------------------------------------------------------------\u001b[0m",
      "\u001b[0;31mNameError\u001b[0m                                 Traceback (most recent call last)",
      "\u001b[0;32m<ipython-input-9-b11868fb18bc>\u001b[0m in \u001b[0;36m<module>\u001b[0;34m()\u001b[0m\n\u001b[0;32m----> 1\u001b[0;31m \u001b[0mHalton\u001b[0m\u001b[0;34m.\u001b[0m\u001b[0mhalton_sequence\u001b[0m\u001b[0;34m(\u001b[0m\u001b[0;36m8\u001b[0m\u001b[0;34m,\u001b[0m\u001b[0;36m2\u001b[0m\u001b[0;34m)\u001b[0m\u001b[0;34m\u001b[0m\u001b[0m\n\u001b[0m",
      "\u001b[0;32m<ipython-input-8-05fefabb14cf>\u001b[0m in \u001b[0;36mhalton_sequence\u001b[0;34m(size, dim)\u001b[0m\n\u001b[1;32m     23\u001b[0m     \u001b[0;32mdef\u001b[0m \u001b[0mhalton_sequence\u001b[0m\u001b[0;34m(\u001b[0m\u001b[0msize\u001b[0m\u001b[0;34m,\u001b[0m \u001b[0mdim\u001b[0m\u001b[0;34m)\u001b[0m\u001b[0;34m:\u001b[0m\u001b[0;34m\u001b[0m\u001b[0m\n\u001b[1;32m     24\u001b[0m         \u001b[0mseq\u001b[0m \u001b[0;34m=\u001b[0m \u001b[0;34m[\u001b[0m\u001b[0;34m]\u001b[0m\u001b[0;34m\u001b[0m\u001b[0m\n\u001b[0;32m---> 25\u001b[0;31m         \u001b[0mprimeGen\u001b[0m \u001b[0;34m=\u001b[0m \u001b[0mnext_prime\u001b[0m\u001b[0;34m(\u001b[0m\u001b[0;34m)\u001b[0m\u001b[0;34m\u001b[0m\u001b[0m\n\u001b[0m\u001b[1;32m     26\u001b[0m         \u001b[0mnext\u001b[0m\u001b[0;34m(\u001b[0m\u001b[0mprimeGen\u001b[0m\u001b[0;34m)\u001b[0m\u001b[0;34m\u001b[0m\u001b[0m\n\u001b[1;32m     27\u001b[0m         \u001b[0;32mfor\u001b[0m \u001b[0md\u001b[0m \u001b[0;32min\u001b[0m \u001b[0mrange\u001b[0m\u001b[0;34m(\u001b[0m\u001b[0mdim\u001b[0m\u001b[0;34m)\u001b[0m\u001b[0;34m:\u001b[0m\u001b[0;34m\u001b[0m\u001b[0m\n",
      "\u001b[0;31mNameError\u001b[0m: name 'next_prime' is not defined"
     ]
    }
   ],
   "source": [
    "Halton.halton_sequence(8,2)"
   ]
  },
  {
   "cell_type": "code",
   "execution_count": 10,
   "metadata": {},
   "outputs": [
    {
     "name": "stdout",
     "output_type": "stream",
     "text": [
      "True\n",
      "(0, 0, 0)\n"
     ]
    }
   ],
   "source": [
    "maximum = np.array([4,5,6])\n",
    "minimum = np.array([0,0,0])\n",
    "p = np.array([2,3,4])\n",
    "print (np.all(minimum <= p))\n",
    "t = tuple(minimum)\n",
    "print (t)"
   ]
  },
  {
   "cell_type": "code",
   "execution_count": 11,
   "metadata": {},
   "outputs": [
    {
     "name": "stdout",
     "output_type": "stream",
     "text": [
      "[]\n"
     ]
    }
   ],
   "source": [
    "shape = np.array([10,10,10])\n",
    "g = [[[[] for _ in range(shape[0])] for _ in range(shape[1])] for _ in range(shape[2])]\n",
    "print (g[minimum[0]][minimum[1]][minimum[2]])"
   ]
  },
  {
   "cell_type": "code",
   "execution_count": 12,
   "metadata": {},
   "outputs": [
    {
     "name": "stdout",
     "output_type": "stream",
     "text": [
      "[  1. -inf -inf]\n",
      "[ 5. inf inf]\n",
      "1.0\n",
      "5.0\n",
      "[0.4 0.4 0.4]\n"
     ]
    },
    {
     "name": "stderr",
     "output_type": "stream",
     "text": [
      "/anaconda3/lib/python3.6/site-packages/ipykernel_launcher.py:3: RuntimeWarning: divide by zero encountered in true_divide\n",
      "  This is separate from the ipykernel package so we can avoid doing imports until\n",
      "/anaconda3/lib/python3.6/site-packages/ipykernel_launcher.py:5: RuntimeWarning: divide by zero encountered in true_divide\n",
      "  \"\"\"\n"
     ]
    }
   ],
   "source": [
    "o = np.array([-1,1,1])\n",
    "d = np.array([1,0,0])\n",
    "t0 = (minimum - o) / d\n",
    "print(t0)\n",
    "t1 = (maximum - o) / d\n",
    "print(t1)\n",
    "tmin = np.max(np.minimum(t0, t1))\n",
    "print(tmin)\n",
    "tmax = np.min(np.maximum(t0, t1))\n",
    "print(tmax)\n",
    "print((tmax-tmin) / shape)"
   ]
  },
  {
   "cell_type": "code",
   "execution_count": 13,
   "metadata": {},
   "outputs": [
    {
     "name": "stdout",
     "output_type": "stream",
     "text": [
      "Outside box\n",
      "[0 0 0]\n"
     ]
    }
   ],
   "source": [
    "size = maximum - minimum\n",
    "if np.all(np.logical_and(minimum <= o, o <= maximum)):\n",
    "    print(\"Inside box\")\n",
    "    index = np.floor((o - minimum) / size).astype(int)\n",
    "else:\n",
    "    print(\"Outside box\")\n",
    "    index = np.floor(((o + tmin * d) - minimum) / size).astype(int)\n",
    "print(index)"
   ]
  },
  {
   "cell_type": "code",
   "execution_count": 14,
   "metadata": {},
   "outputs": [
    {
     "name": "stdout",
     "output_type": "stream",
     "text": [
      "[0, 1, 2, 3, 4, 5]\n",
      "[6, 7, 8, 9, 10, 11]\n"
     ]
    }
   ],
   "source": [
    "a = list(range(12))\n",
    "l = a[: int(len(a) / 2)]\n",
    "r = a[int(len(a) / 2) :]\n",
    "print(l)\n",
    "print(r)"
   ]
  },
  {
   "cell_type": "code",
   "execution_count": 20,
   "metadata": {},
   "outputs": [],
   "source": [
    "    def samples(maximum, minimum, n):\n",
    "        ret = []\n",
    "        step = (maximum - minimum)/n\n",
    "        step1 = np.array([step[0], 0.0, step[2]])\n",
    "        step2 = np.array([0.0, step[1], 0.0])\n",
    "        for i in range(n):\n",
    "            for j in range(n):\n",
    "                ret.append(minimum + ((0.5 + j) * step2) + ((0.5 + i) * step1))\n",
    "        return ret"
   ]
  },
  {
   "cell_type": "code",
   "execution_count": 22,
   "metadata": {},
   "outputs": [
    {
     "data": {
      "text/plain": [
       "25"
      ]
     },
     "execution_count": 22,
     "metadata": {},
     "output_type": "execute_result"
    }
   ],
   "source": [
    "len(samples(np.array([5.0,5,5]),np.array([0.0,0.0,0.0]), 5))\n"
   ]
  },
  {
   "cell_type": "code",
   "execution_count": 6,
   "metadata": {},
   "outputs": [],
   "source": [
    "def normalize(v):\n",
    "    vLen = mag(v)\n",
    "    if vLen == 0:\n",
    "        return 0\n",
    "    else:\n",
    "        return v / vLen"
   ]
  },
  {
   "cell_type": "code",
   "execution_count": 39,
   "metadata": {},
   "outputs": [],
   "source": [
    "class Rectangle:\n",
    "    \"\"\" Simple geometric rectangle\n",
    "\n",
    "    Attributes:\n",
    "        kEpsilon: floating value used for allowable error in equality tests\n",
    "        p: Origin point of the rectangle, where edges originate from\n",
    "        a, b: Numpy arrays representing edges of the rectangle\n",
    "        n: Numpy array representing unit normal vector\n",
    "        mat: Tuple representing an RGB color with values in [0,255] (default: Blue)\n",
    "    \"\"\"\n",
    "    kEpsilon = 0.0000001\n",
    "\n",
    "    def __init__(self, p, a, b, mat=np.array([0, 0, 255])):\n",
    "        \"\"\"Initializes triangle attributes\"\"\"\n",
    "        self.p = p\n",
    "        self.a = a\n",
    "        self.b = b\n",
    "        self.aa = np.dot(a, a)\n",
    "        self.bb = np.dot(b, b)\n",
    "        self.n = normalize(np.cross(a, b))\n",
    "        self.material = mat\n",
    "        self.min = np.array([p, p + a, p + b, p + a + b]).min(axis=0)\n",
    "        self.max = np.array([p, p + a, p + b, p + a + b]).max(axis=0)\n",
    "        self.center = p + (a / 2) + (b / 2)\n",
    "\n",
    "    def intersectRay(self, ray):\n",
    "        \"\"\" Determine if a ray intersects the rectangle\n",
    "            Returns: the parameter t for the intersection point to the ray\n",
    "                     origin. Returns a value of None for no intersection\n",
    "        \"\"\"\n",
    "        # Ray Tracing from the Ground Up, pg. 370\n",
    "        t = np.dot(self.p - ray.o, self.n) / np.dot(ray.d, self.n)\n",
    "        print (t)\n",
    "        if t < self.kEpsilon:\n",
    "            return None\n",
    "\n",
    "        pt = ray.getPoint(t)\n",
    "        print (pt)\n",
    "        d = pt - self.p\n",
    "        print (d)\n",
    "\n",
    "        ddota = np.dot(d, self.a)\n",
    "        print (ddota)\n",
    "        if ddota < 0.0 or ddota > self.aa:\n",
    "            return None\n",
    "\n",
    "        ddotb = np.dot(d, self.b)\n",
    "        print (ddotb)\n",
    "        if ddotb < 0.0 or ddotb > self.bb:\n",
    "            return None\n",
    "\n",
    "        return t\n",
    "\n",
    "    def getNormal(self, p):\n",
    "        return self.n"
   ]
  },
  {
   "cell_type": "code",
   "execution_count": 40,
   "metadata": {},
   "outputs": [],
   "source": [
    "class Ray:\n",
    "    \"\"\" Simple ray class. Uses numpy arrays. Note that the direction may not be unit length\"\"\"\n",
    "\n",
    "    def __init__(self, origin, direction):\n",
    "        \"\"\" Initialize the ray with origin and direction\"\"\"\n",
    "        self.o = origin\n",
    "        self.d = direction\n",
    "\n",
    "    def getPoint(self, t):\n",
    "        \"\"\"Returns the point along the ray generated by parameter t\"\"\"\n",
    "        return self.o + t * self.d"
   ]
  },
  {
   "cell_type": "code",
   "execution_count": 41,
   "metadata": {},
   "outputs": [],
   "source": [
    "r = Rectangle(np.array([-5.0, 0.0, 5.0]), np.array([0.0, 10.0, 0.0]), np.array([10.0, 0.0, 0.0]))"
   ]
  },
  {
   "cell_type": "code",
   "execution_count": 42,
   "metadata": {},
   "outputs": [],
   "source": [
    "ray = Ray(np.array([0.0, 0.0, 0.0]), np.array([0.0, 0.0, 1.0]))"
   ]
  },
  {
   "cell_type": "code",
   "execution_count": 43,
   "metadata": {},
   "outputs": [
    {
     "name": "stdout",
     "output_type": "stream",
     "text": [
      "5.0\n",
      "[0. 0. 5.]\n",
      "[5. 0. 0.]\n",
      "0.0\n",
      "50.0\n",
      "5.0\n"
     ]
    }
   ],
   "source": [
    "print(r.intersectRay(ray))"
   ]
  },
  {
   "cell_type": "code",
   "execution_count": null,
   "metadata": {},
   "outputs": [],
   "source": []
  }
 ],
 "metadata": {
  "kernelspec": {
   "display_name": "Python 3",
   "language": "python",
   "name": "python3"
  },
  "language_info": {
   "codemirror_mode": {
    "name": "ipython",
    "version": 3
   },
   "file_extension": ".py",
   "mimetype": "text/x-python",
   "name": "python",
   "nbconvert_exporter": "python",
   "pygments_lexer": "ipython3",
   "version": "3.6.5"
  }
 },
 "nbformat": 4,
 "nbformat_minor": 2
}
